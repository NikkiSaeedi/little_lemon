{
 "cells": [
  {
   "cell_type": "code",
   "execution_count": 1,
   "id": "187e4a6f-77d3-45cc-a1ab-4a628e9be1c6",
   "metadata": {},
   "outputs": [],
   "source": [
    "#Import MySQL Connector/Python\n",
    "import mysql.connector as connector\n"
   ]
  },
  {
   "cell_type": "code",
   "execution_count": 4,
   "id": "564f9f8b-11e8-4f07-b031-ed63effab077",
   "metadata": {},
   "outputs": [
    {
     "name": "stdout",
     "output_type": "stream",
     "text": [
      "connection between MySQL and Python is established.\n",
      "\n"
     ]
    }
   ],
   "source": [
    "#Establish connection between Python and MySQL database via connector API\n",
    "connection = connector.connect(user = \"root\",\n",
    "                               password = \"NafasAnjel2010\",\n",
    "                               host = \"localhost\")\n",
    "print(\"connection between MySQL and Python is established.\\n\")"
   ]
  },
  {
   "cell_type": "code",
   "execution_count": 6,
   "id": "7fb5ab82-1b04-4110-852d-8b59a14fa096",
   "metadata": {},
   "outputs": [
    {
     "name": "stdout",
     "output_type": "stream",
     "text": [
      "Cursor is created to communicate with the MySQL using Python.\n",
      "\n"
     ]
    }
   ],
   "source": [
    "#Create cursor object to communicate with entire MySQL database\n",
    "cursor = connection.cursor()\n",
    "print(\"Cursor is created to communicate with the MySQL using Python.\\n\")"
   ]
  },
  {
   "cell_type": "code",
   "execution_count": 12,
   "id": "408d2ed5-49a5-45a9-9cc1-20c0cfd1fd08",
   "metadata": {},
   "outputs": [
    {
     "name": "stdout",
     "output_type": "stream",
     "text": [
      "The database little_lemon is created.\n",
      "\n"
     ]
    }
   ],
   "source": [
    "#If exist, drop the database first and create it again\n",
    "try:\n",
    "    cursor.execute(\"CREATE DATABASE little_lemon\")\n",
    "except:\n",
    "    cursor.execute(\"DROP DATABASE little_lemon\")\n",
    "    cursor.execute(\"CREATE DATABASE little_lemon\")\n",
    "print(\"The database little_lemon is created.\\n\")\n",
    "\n",
    "cursor.execute(\"USE little_lemon\")\n"
   ]
  },
  {
   "cell_type": "code",
   "execution_count": 13,
   "id": "ed1e20c0-6307-47f6-82b5-c86fa1c207bf",
   "metadata": {},
   "outputs": [
    {
     "name": "stdout",
     "output_type": "stream",
     "text": [
      "MenuItems table is created.\n",
      "\n"
     ]
    }
   ],
   "source": [
    "#The SQL query for table MenueItem\n",
    "create_menuitem_table=\"\"\"\n",
    "                        CREATE TABLE MenuItem (\n",
    "                        ItemID INT AUTO_INCREMENT,\n",
    "                        Name VARCHAR(200),\n",
    "                        Type VARCHAR(100),\n",
    "                        Price INT,\n",
    "                        PRIMARY KEY (ItemID)\n",
    "                        );\"\"\"\n",
    "#Create MenuItem table\n",
    "cursor.execute(create_menuitem_table)\n",
    "print(\"MenuItems table is created.\\n\")\n"
   ]
  },
  {
   "cell_type": "code",
   "execution_count": 14,
   "id": "da4a5262-70a5-428f-b048-3957b8882638",
   "metadata": {},
   "outputs": [
    {
     "name": "stdout",
     "output_type": "stream",
     "text": [
      "Menu table is created.\n",
      "\n"
     ]
    }
   ],
   "source": [
    "#The SQL query for Menu table:\n",
    "create_menu_table=\"\"\"\n",
    "CREATE TABLE Menus(\n",
    "MenuID INT,\n",
    "ItemID INT,\n",
    "Cuisine VARCHAR(100),\n",
    "PRIMARY KEY (MenuID , ItemID)\n",
    ");\"\"\"\n",
    "\n",
    "#CREATE Menu Tabler:\n",
    "cursor.execute(create_menu_table)\n",
    "print(\"Menu table is created.\\n\")"
   ]
  },
  {
   "cell_type": "code",
   "execution_count": 16,
   "id": "eff0a81a-9705-44b4-be43-c2c95843a067",
   "metadata": {},
   "outputs": [
    {
     "name": "stdout",
     "output_type": "stream",
     "text": [
      "Bookings table is created.\n",
      "\n"
     ]
    }
   ],
   "source": [
    "#The SQL query for Booking table:\n",
    "create_booking_table =\"\"\"\n",
    "CREATE TABLE Bookings(\n",
    "BookingID INT AUTO_INCREMENT,\n",
    "TableNo INT,\n",
    "GuestFirstName VARCHAR(100) NOT NULL,\n",
    "GuestLastName VARCHAR(100) NOT NULL,\n",
    "BookingSlot TIME NOT NULL,\n",
    "EmployeeID INT,\n",
    "PRIMARY KEY (BookingID)\n",
    ");\"\"\"\n",
    "\n",
    "#Create table Bookings\n",
    "cursor.execute(create_booking_table)\n",
    "\n",
    "print(\"Bookings table is created.\\n\")"
   ]
  },
  {
   "cell_type": "code",
   "execution_count": 17,
   "id": "ccdfb0e1-3792-4013-a9c5-8d10f3485d6d",
   "metadata": {},
   "outputs": [
    {
     "name": "stdout",
     "output_type": "stream",
     "text": [
      "Orders table is created.\n",
      "\n"
     ]
    }
   ],
   "source": [
    "#The SQL query for orders table:\n",
    "create_orders_table = \"\"\"\n",
    "CREATE TABLE Orders(\n",
    "OrderID INT,\n",
    "TableNo INT,\n",
    "MenuID INT,\n",
    "BookingID INT,\n",
    "BillAmount INT,\n",
    "Quantity INT,\n",
    "PRIMARY KEY (OrderID,TableNo)\n",
    ");\"\"\"\n",
    "\n",
    "#Create Orders table\n",
    "cursor.execute(create_orders_table)\n",
    "\n",
    "print(\"Orders table is created.\\n\")"
   ]
  },
  {
   "cell_type": "code",
   "execution_count": 22,
   "id": "e78d26d4-419f-428f-8e2f-986f4463156e",
   "metadata": {},
   "outputs": [],
   "source": [
    "#*************************************************#\n",
    "#Insert query to population \"MenuItems\" table is:\n",
    "#*************************************************#\n",
    "insert_menuitmes = \"\"\"\n",
    "INSERT INTO MenuItem (ItemID, Name, Type, Price)\n",
    "VALUES\n",
    "(1,'Olives','Starters',5),\n",
    "(2,'Flatbread','Starters', 5),\n",
    "(3, 'Minestrone', 'Starters', 8),\n",
    "(4, 'Tomato bread','Starters', 8),\n",
    "(5, 'Falafel', 'Starters', 7),\n",
    "(6, 'Hummus', 'Starters', 5),\n",
    "(7, 'Greek salad', 'Main Courses', 15),\n",
    "(8, 'Bean soup', 'Main Courses', 12),\n",
    "(9, 'Pizza', 'Main Courses', 15),\n",
    "(10,'Greek yoghurt','Desserts', 7),\n",
    "(11, 'Ice cream', 'Desserts', 6),\n",
    "(12, 'Cheesecake', 'Desserts', 4),\n",
    "(13, 'Athens White wine', 'Drinks', 25),\n",
    "(14, 'Corfu Red Wine', 'Drinks', 30),\n",
    "(15, 'Turkish Coffee', 'Drinks', 10),\n",
    "(16, 'Turkish Coffee', 'Drinks', 10),\n",
    "(17, 'Kabasa', 'Main Courses', 17);\"\"\""
   ]
  },
  {
   "cell_type": "code",
   "execution_count": 23,
   "id": "e68e7e12-0eeb-4fbb-bf09-eadb53cf52c3",
   "metadata": {},
   "outputs": [
    {
     "name": "stdout",
     "output_type": "stream",
     "text": [
      "Inserting data in MenuItems table.\n",
      "Total number of rows in MenuItem table: 17\n",
      "\n"
     ]
    }
   ],
   "source": [
    "print(\"Inserting data in MenuItems table.\")\n",
    "# Populate MenuItems table\n",
    "cursor.execute(insert_menuitmes)\n",
    "print(\"Total number of rows in MenuItem table: {}\\n\".format(cursor.rowcount))\n",
    "# Once the query is executed, you commit the change into the database \n",
    "connection.commit()"
   ]
  },
  {
   "cell_type": "code",
   "execution_count": 24,
   "id": "6e93dee5-ad71-46a0-9c98-cc90961bddcb",
   "metadata": {},
   "outputs": [
    {
     "name": "stdout",
     "output_type": "stream",
     "text": [
      "Inserting data in Menus table.\n",
      "Total number of rows in Menu table: 12\n",
      "\n"
     ]
    }
   ],
   "source": [
    "#*******************************************************#\n",
    "# Insert query to populate \"Menu\" table is:\n",
    "#*******************************************************#\n",
    "insert_menu=\"\"\"\n",
    "INSERT INTO Menus (MenuID,ItemID,Cuisine)\n",
    "VALUES\n",
    "(1, 1, 'Greek'),\n",
    "(1, 7, 'Greek'),\n",
    "(1, 10, 'Greek'),\n",
    "(1, 13, 'Greek'),\n",
    "(2, 3, 'Italian'),\n",
    "(2, 9, 'Italian'),\n",
    "(2, 12, 'Italian'),\n",
    "(2, 15, 'Italian'),\n",
    "(3, 5, 'Turkish'),\n",
    "(3, 17, 'Turkish'),\n",
    "(3, 11, 'Turkish'),\n",
    "(3, 16, 'Turkish');\"\"\"\n",
    "\n",
    "print(\"Inserting data in Menus table.\")\n",
    "# Populate MenuItems table\n",
    "cursor.execute(insert_menu)\n",
    "print(\"Total number of rows in Menu table: {}\\n\".format(cursor.rowcount))\n",
    "connection.commit()"
   ]
  },
  {
   "cell_type": "code",
   "execution_count": 25,
   "id": "7f04b1f3-714f-4740-95be-8fe53d115150",
   "metadata": {},
   "outputs": [
    {
     "name": "stdout",
     "output_type": "stream",
     "text": [
      "Inserting data in Bookings table.\n",
      "Total number of rows in Bookings table: 6\n",
      "\n"
     ]
    }
   ],
   "source": [
    "#*******************************************************#\n",
    "# Insert query to populate \"Bookings\" table is:\n",
    "#*******************************************************#\n",
    "insert_bookings=\"\"\"\n",
    "INSERT INTO Bookings (BookingID, TableNo, GuestFirstName, \n",
    "GuestLastName, BookingSlot, EmployeeID)\n",
    "VALUES\n",
    "(1,12,'Anna','Iversen','19:00:00',1),\n",
    "(2, 12, 'Joakim', 'Iversen', '19:00:00', 1),\n",
    "(3, 19, 'Vanessa', 'McCarthy', '15:00:00', 3),\n",
    "(4, 15, 'Marcos', 'Romero', '17:30:00', 4),\n",
    "(5, 5, 'Hiroki', 'Yamane', '18:30:00', 2),\n",
    "(6, 8, 'Diana', 'Pinto', '20:00:00', 5);\"\"\"\n",
    "\n",
    "print(\"Inserting data in Bookings table.\")\n",
    "# Populate Bookings table\n",
    "cursor.execute(insert_bookings)\n",
    "print(\"Total number of rows in Bookings table: {}\\n\".format(cursor.rowcount))\n",
    "connection.commit()\n"
   ]
  },
  {
   "cell_type": "code",
   "execution_count": 26,
   "id": "52cd6f2e-1480-4a71-b2f9-cd2eeebd3095",
   "metadata": {},
   "outputs": [
    {
     "name": "stdout",
     "output_type": "stream",
     "text": [
      "Inserting data in Orders table.\n",
      "Total number of rows in Orders table: 5\n",
      "\n",
      "The database \"little_lemon\" is ready for use.\n"
     ]
    }
   ],
   "source": [
    "#*******************************************************#\n",
    "# Insert query to populate \"Orders\" table is:\n",
    "#*******************************************************#\n",
    "insert_orders=\"\"\"\n",
    "INSERT INTO Orders (OrderID, TableNo, MenuID, BookingID, Quantity, BillAmount)\n",
    "VALUES\n",
    "(1, 12, 1, 1, 2, 86),\n",
    "(2, 19, 2, 2, 1, 37),\n",
    "(3, 15, 2, 3, 1, 37),\n",
    "(4, 5, 3, 4, 1, 40),\n",
    "(5, 8, 1, 5, 1, 43);\"\"\"\n",
    "\n",
    "print(\"Inserting data in Orders table.\")\n",
    "# Populate Orders table\n",
    "cursor.execute(insert_orders)\n",
    "print(\"Total number of rows in Orders table: {}\\n\".format(cursor.rowcount))\n",
    "connection.commit()\n",
    "\n",
    "print(\"\"\"The database \"little_lemon\" is ready for use.\"\"\")"
   ]
  },
  {
   "cell_type": "code",
   "execution_count": null,
   "id": "1a5f1616-14b2-400c-bde4-d27f6f4d360d",
   "metadata": {},
   "outputs": [],
   "source": []
  }
 ],
 "metadata": {
  "kernelspec": {
   "display_name": "Python 3 (ipykernel)",
   "language": "python",
   "name": "python3"
  },
  "language_info": {
   "codemirror_mode": {
    "name": "ipython",
    "version": 3
   },
   "file_extension": ".py",
   "mimetype": "text/x-python",
   "name": "python",
   "nbconvert_exporter": "python",
   "pygments_lexer": "ipython3",
   "version": "3.11.1"
  }
 },
 "nbformat": 4,
 "nbformat_minor": 5
}
